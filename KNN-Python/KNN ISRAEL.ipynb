{
 "cells": [
  {
   "cell_type": "code",
   "execution_count": 34,
   "metadata": {},
   "outputs": [],
   "source": [
    "import pandas as pd #Importar dataset\n",
    "from math import sqrt #Librería para poder usar Raiz \n",
    "from collections import Counter"
   ]
  },
  {
   "cell_type": "code",
   "execution_count": 35,
   "metadata": {},
   "outputs": [],
   "source": [
    "df = pd.read_csv(\"breast-cancer-wisconsin.data.txt\") #Importar dataset\n",
    "df.replace('?',-99999, inplace=True)\n",
    "df.drop(['id'], 1, inplace=True)    #Eliminiar la columna id\n",
    "full_data = df.astype(float).values.tolist()  #Convertimos todo a float"
   ]
  },
  {
   "cell_type": "code",
   "execution_count": 36,
   "metadata": {},
   "outputs": [],
   "source": [
    "def knn(data, predict, k=3):    #Función donde se gardarán los datos para entrenar y predecir y el valor de vecinos (k) es 3\n",
    "    if len(data) >= k:\n",
    "        print(\"K tiene que ser menor al número de datos!\")\n",
    "    distances = []    #Creamos otro vector con las distancias, del cual tomamremos las más cercanas\n",
    "    for group in data:\n",
    "        for features in data[group]:\n",
    "            mdistancia = sqrt( (features[0]-predict[0])**2 + (features[1]-predict[1])**2 )  #Fórmula para calcular la distancia\n",
    "            distances.append([mdistancia,group])\n",
    "            \n",
    "    votes = [i[1] for i in sorted(distances)[:k]]  #Ordenamos las distancias para tomar los primeros k elementos\n",
    "    vote_result = Counter(votes).most_common(1)[0][0]  #Tomamos el dato mayoritario o que se repte mas veces\n",
    "    \n",
    "    return vote_result  #Devolvemos el resultado"
   ]
  },
  {
   "cell_type": "code",
   "execution_count": 37,
   "metadata": {},
   "outputs": [],
   "source": [
    "test_size = 0.2\n",
    "train_set = {2:[], 4:[]}   #Separamos un 80% de los datos para entrenamiento\n",
    "test_set = {2:[], 4:[]}    #Separamos un 20% de los datos para test\n",
    "#Usamos 2 para identificar tumores benignos y 4 para malignos\n",
    "train_data = full_data[:-int(test_size*len(full_data))]\n",
    "test_data = full_data[-int(test_size*len(full_data)):]\n"
   ]
  },
  {
   "cell_type": "code",
   "execution_count": 38,
   "metadata": {},
   "outputs": [],
   "source": [
    "for i in train_data:\n",
    "    train_set[i[-1]].append(i[:-1])   #son los datos\n",
    "\n",
    "for i in test_data:\n",
    "    test_set[i[-1]].append(i[:-1])   #SOn las distancias"
   ]
  },
  {
   "cell_type": "code",
   "execution_count": 39,
   "metadata": {},
   "outputs": [
    {
     "name": "stdout",
     "output_type": "stream",
     "text": [
      "Accuracy: 0.9856115107913669\n"
     ]
    }
   ],
   "source": [
    "correct = 0\n",
    "total = 0\n",
    "\n",
    "for group in test_set:\n",
    "    for data in test_set[group]:\n",
    "        vote = knn(train_set, data, k=7)\n",
    "        if group == vote:\n",
    "            correct += 1\n",
    "        total += 1\n",
    "print('Accuracy:', correct/total)"
   ]
  }
 ],
 "metadata": {
  "kernelspec": {
   "display_name": "Python 3",
   "language": "python",
   "name": "python3"
  },
  "language_info": {
   "codemirror_mode": {
    "name": "ipython",
    "version": 3
   },
   "file_extension": ".py",
   "mimetype": "text/x-python",
   "name": "python",
   "nbconvert_exporter": "python",
   "pygments_lexer": "ipython3",
   "version": "3.7.1"
  }
 },
 "nbformat": 4,
 "nbformat_minor": 2
}
