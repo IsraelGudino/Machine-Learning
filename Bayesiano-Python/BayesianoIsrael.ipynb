{
 "cells": [
  {
   "cell_type": "code",
   "execution_count": 1,
   "metadata": {},
   "outputs": [],
   "source": [
    "import pandas as pd #Importar dataset\n",
    "import math\n",
    "import random"
   ]
  },
  {
   "cell_type": "code",
   "execution_count": 2,
   "metadata": {},
   "outputs": [],
   "source": [
    "def dividir_datos(dataset, splitRatio):\n",
    "    trainSize = int(len(dataset) * splitRatio) #Tamaño de datos de entrenamiento\n",
    "    trainSet = []\n",
    "    test = list(dataset)\n",
    "    while len(trainSet) < trainSize:\n",
    "        index = random.randrange(len(test)) #Tomamos datos al azar\n",
    "        trainSet.append(test.pop(index))  #Agregamos datos al vector \n",
    "    return [trainSet, test]               #Tenemos los datos de entrenamiento y test"
   ]
  },
  {
   "cell_type": "code",
   "execution_count": 3,
   "metadata": {},
   "outputs": [],
   "source": [
    "def separar_clases(dataset):   #Separar los datos por clase\n",
    "    separar = {}\n",
    "    for i in range(len(dataset)):\n",
    "        vector = dataset[i]\n",
    "        if (vector[-1] not in separar):\n",
    "            separar[vector[-1]] = []\n",
    "        separar[vector[-1]].append(vector)\n",
    "    return separar"
   ]
  },
  {
   "cell_type": "code",
   "execution_count": 4,
   "metadata": {},
   "outputs": [],
   "source": [
    "def media(numbers):    #Función para sacar la media\n",
    "    return sum(numbers)/float(len(numbers))"
   ]
  },
  {
   "cell_type": "code",
   "execution_count": 5,
   "metadata": {},
   "outputs": [],
   "source": [
    "def stdev(numbers):  #Función para sacar la variación\n",
    "    avg = media(numbers)\n",
    "    variance = sum([pow(x-avg,2) for x in numbers])/float(len(numbers)-1) \n",
    "    return math.sqrt(variance)"
   ]
  },
  {
   "cell_type": "code",
   "execution_count": 6,
   "metadata": {},
   "outputs": [],
   "source": [
    "def sumarizar(dataset): #Función para sumarizar los datos por clase\n",
    "    summaries = [(media(attribute), stdev(attribute)) for attribute in zip(*dataset)]\n",
    "    del summaries[-1]\n",
    "    return summaries"
   ]
  },
  {
   "cell_type": "code",
   "execution_count": 7,
   "metadata": {},
   "outputs": [],
   "source": [
    "def summarizeByClass(dataset): #Sumarizar los datos por clase (Juntar los datos por clase)\n",
    "    separar = separar_clases(dataset)\n",
    "    summaries = {}\n",
    "    for classValue, instances in separar.items():\n",
    "        summaries[classValue] = sumarizar(instances)\n",
    "    return summaries"
   ]
  },
  {
   "cell_type": "code",
   "execution_count": 8,
   "metadata": {},
   "outputs": [],
   "source": [
    "def calculateProbability(x, media, stdev): #Fórmula probabilidad Bayesiana\n",
    "    exponent = math.exp(-(math.pow(x-media,2)/(2*math.pow(stdev,2))))\n",
    "    return (1 / (math.sqrt(2*math.pi) * stdev)) * exponent"
   ]
  },
  {
   "cell_type": "code",
   "execution_count": 9,
   "metadata": {},
   "outputs": [],
   "source": [
    "def calculateClassProbabilities(summaries, inputVector): #Calculamos la probabilidad de cada clase\n",
    "    probabilities = {}\n",
    "    for classValue, classSummaries in summaries.items():\n",
    "        probabilities[classValue] = 1\n",
    "        for i in range(len(classSummaries)):\n",
    "            media, stdev = classSummaries[i]\n",
    "            x = inputVector[i]\n",
    "            probabilities[classValue] *= calculateProbability(x, media, stdev) #Llamamos la función del cálculo de la probabilidad\n",
    "    return probabilities"
   ]
  },
  {
   "cell_type": "code",
   "execution_count": 10,
   "metadata": {},
   "outputs": [],
   "source": [
    "def predict(summaries, inputVector):  #FUnción para calcular la predicción\n",
    "    probabilities = calculateClassProbabilities(summaries, inputVector)\n",
    "    bestLabel, bestProb = None, -1\n",
    "    for classValue, probability in probabilities.items():\n",
    "        if bestLabel is None or probability > bestProb:\n",
    "            bestProb = probability\n",
    "            bestLabel = classValue\n",
    "    return bestLabel"
   ]
  },
  {
   "cell_type": "code",
   "execution_count": 11,
   "metadata": {},
   "outputs": [],
   "source": [
    "def ob_predicciones(summaries, testSet): #calculamos la predicción\n",
    "    predictions = []\n",
    "    for i in range(len(testSet)):\n",
    "        result = predict(summaries, testSet[i])  #Llamamos a la función de predicción\n",
    "        predictions.append(result)\n",
    "    return predictions"
   ]
  },
  {
   "cell_type": "code",
   "execution_count": 12,
   "metadata": {},
   "outputs": [],
   "source": [
    "def tasa_pred(testSet, predictions):\n",
    "    correct = 0\n",
    "    for x in range(len(testSet)):\n",
    "        if testSet[x][-1] == predictions[x]:\n",
    "            correct += 1\n",
    "    return (correct/float(len(testSet))) * 100"
   ]
  },
  {
   "cell_type": "code",
   "execution_count": 14,
   "metadata": {},
   "outputs": [
    {
     "name": "stdout",
     "output_type": "stream",
     "text": [
      "Datos= 390 ,Datos de entrenamiento= 261 ,Datos de test= 129\n",
      "Accuracy: 36.434108527131784\n"
     ]
    }
   ],
   "source": [
    "df = pd.read_csv(\"dataset.csv\")        #Importar dataset\n",
    "dataset = df.astype(float).values.tolist()  #Convertimos todo a float\n",
    "splitRatio = 0.67                 #Que tanto del dataset se divide en entrenemiento y test\n",
    "trainingSet, testSet = dividir_datos(dataset, splitRatio)     #Se llama a la función para dividir en entrenamiento y test\n",
    "print('Datos=', len(dataset),',Datos de entrenamiento=',len(trainingSet),',Datos de test=',len(testSet))   #Imprimir el número de datos y cuantos son de entrenamiento y test\n",
    "summaries = summarizeByClass(trainingSet)   # Sacamos media aritmetica de cada clase\n",
    "predictions = ob_predicciones(summaries, testSet) #Hacemos la predicción\n",
    "accuracy = tasa_pred(testSet, predictions)     # Calculamos el porcentaje de predicción\n",
    "print('Accuracy:',accuracy)                 # Imprimimos el porcentaje de predicción"
   ]
  },
  {
   "cell_type": "code",
   "execution_count": null,
   "metadata": {},
   "outputs": [],
   "source": []
  }
 ],
 "metadata": {
  "kernelspec": {
   "display_name": "Python 3",
   "language": "python",
   "name": "python3"
  },
  "language_info": {
   "codemirror_mode": {
    "name": "ipython",
    "version": 3
   },
   "file_extension": ".py",
   "mimetype": "text/x-python",
   "name": "python",
   "nbconvert_exporter": "python",
   "pygments_lexer": "ipython3",
   "version": "3.7.1"
  }
 },
 "nbformat": 4,
 "nbformat_minor": 2
}
